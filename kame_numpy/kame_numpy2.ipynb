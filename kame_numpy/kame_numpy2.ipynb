{
 "cells": [
  {
   "cell_type": "markdown",
   "metadata": {},
   "source": [
    "第9回"
   ]
  },
  {
   "cell_type": "code",
   "execution_count": 1,
   "metadata": {},
   "outputs": [],
   "source": [
    "import numpy as np"
   ]
  },
  {
   "cell_type": "code",
   "execution_count": 2,
   "metadata": {},
   "outputs": [
    {
     "name": "stdout",
     "output_type": "stream",
     "text": [
      "[[ 4 25 27 24  3]\n",
      " [14 28 19  4 25]\n",
      " [12  9  4  2 18]\n",
      " [14 13 27  6  1]\n",
      " [26  1 11 29 26]]\n"
     ]
    }
   ],
   "source": [
    "normal_dist_mat = np.random.randint(1, 30, size=(5, 5))\n",
    "print(normal_dist_mat)"
   ]
  },
  {
   "cell_type": "code",
   "execution_count": 3,
   "metadata": {},
   "outputs": [
    {
     "name": "stdout",
     "output_type": "stream",
     "text": [
      "max; 29\n"
     ]
    }
   ],
   "source": [
    "# max\n",
    "print('max;', normal_dist_mat.max())"
   ]
  },
  {
   "cell_type": "code",
   "execution_count": 4,
   "metadata": {},
   "outputs": [
    {
     "name": "stdout",
     "output_type": "stream",
     "text": [
      "argmax; 23\n"
     ]
    }
   ],
   "source": [
    "# argmax 最大値のindex\n",
    "print('argmax;', normal_dist_mat.argmax())"
   ]
  },
  {
   "cell_type": "code",
   "execution_count": 5,
   "metadata": {},
   "outputs": [
    {
     "data": {
      "text/plain": [
       "array([ 4, 25, 27, 24,  3, 14, 28, 19,  4, 25, 12,  9,  4,  2, 18, 14, 13,\n",
       "       27,  6,  1, 26,  1, 11, 29, 26])"
      ]
     },
     "execution_count": 5,
     "metadata": {},
     "output_type": "execute_result"
    }
   ],
   "source": [
    "normal_dist_mat.flatten()"
   ]
  },
  {
   "cell_type": "code",
   "execution_count": 6,
   "metadata": {},
   "outputs": [
    {
     "data": {
      "text/plain": [
       "14.88"
      ]
     },
     "execution_count": 6,
     "metadata": {},
     "output_type": "execute_result"
    }
   ],
   "source": [
    "normal_dist_mat.mean()"
   ]
  },
  {
   "cell_type": "code",
   "execution_count": 9,
   "metadata": {},
   "outputs": [
    {
     "name": "stdout",
     "output_type": "stream",
     "text": [
      "median; 14.0\n"
     ]
    }
   ],
   "source": [
    "print('median;', np.median(normal_dist_mat))"
   ]
  },
  {
   "cell_type": "code",
   "execution_count": 10,
   "metadata": {},
   "outputs": [
    {
     "name": "stdout",
     "output_type": "stream",
     "text": [
      "std: 9.831866557271818\n"
     ]
    }
   ],
   "source": [
    "print('std:', normal_dist_mat.std())"
   ]
  },
  {
   "cell_type": "code",
   "execution_count": 11,
   "metadata": {},
   "outputs": [
    {
     "name": "stdout",
     "output_type": "stream",
     "text": [
      "[-3.         -2.33333333 -1.66666667 -1.         -0.33333333  0.33333333\n",
      "  1.          1.66666667  2.33333333  3.        ]\n",
      "[ 0.04978707  0.09697197  0.1888756   0.36787944  0.71653131  1.39561243\n",
      "  2.71828183  5.29449005 10.3122585  20.08553692]\n"
     ]
    }
   ],
   "source": [
    "ndarray = np.linspace(-3, 3, 10)\n",
    "exp_ndarray = np.exp(ndarray) # e ~ 2.718 の指数関数\n",
    "print(ndarray)\n",
    "print(exp_ndarray)"
   ]
  },
  {
   "cell_type": "code",
   "execution_count": 12,
   "metadata": {},
   "outputs": [
    {
     "name": "stdout",
     "output_type": "stream",
     "text": [
      "[-3.         -2.33333333 -1.66666667 -1.         -0.33333333  0.33333333\n",
      "  1.          1.66666667  2.33333333  3.        ]\n",
      "[        nan         nan         nan         nan         nan -1.09861229\n",
      "  0.          0.51082562  0.84729786  1.09861229]\n"
     ]
    },
    {
     "name": "stderr",
     "output_type": "stream",
     "text": [
      "/opt/anaconda3/lib/python3.7/site-packages/ipykernel_launcher.py:2: RuntimeWarning: invalid value encountered in log\n",
      "  \n"
     ]
    }
   ],
   "source": [
    "ndarray = np.linspace(-3, 3, 10)\n",
    "log_ndarray = np.log(ndarray) # e ~ 2.718 のlog関数\n",
    "print(ndarray)\n",
    "print(log_ndarray)"
   ]
  },
  {
   "cell_type": "code",
   "execution_count": 15,
   "metadata": {},
   "outputs": [
    {
     "name": "stdout",
     "output_type": "stream",
     "text": [
      "nan\n",
      "nan == None?:False\n"
     ]
    }
   ],
   "source": [
    "print(log_ndarray[0])\n",
    "print('nan == None?:{}'.format(log_ndarray[0] is None))"
   ]
  },
  {
   "cell_type": "code",
   "execution_count": 16,
   "metadata": {},
   "outputs": [],
   "source": [
    "# nan: Not-A-Number, /0 割り算でも出てくる, データサイエンスの操作全般で頻出"
   ]
  },
  {
   "cell_type": "code",
   "execution_count": 17,
   "metadata": {},
   "outputs": [
    {
     "data": {
      "text/plain": [
       "True"
      ]
     },
     "execution_count": 17,
     "metadata": {},
     "output_type": "execute_result"
    }
   ],
   "source": [
    "np.isnan(log_ndarray[0])"
   ]
  },
  {
   "cell_type": "code",
   "execution_count": 18,
   "metadata": {},
   "outputs": [
    {
     "name": "stdout",
     "output_type": "stream",
     "text": [
      "2.718281828459045\n",
      "1.0\n"
     ]
    }
   ],
   "source": [
    "print(np.e)\n",
    "print(np.log(np.e))"
   ]
  },
  {
   "cell_type": "code",
   "execution_count": 19,
   "metadata": {},
   "outputs": [],
   "source": [
    "############"
   ]
  },
  {
   "cell_type": "code",
   "execution_count": 20,
   "metadata": {},
   "outputs": [],
   "source": [
    "# shape操作\n",
    "# rank: 次元数, ex) shape(3, 3, 1):3, shape(3, 3):2"
   ]
  },
  {
   "cell_type": "code",
   "execution_count": 23,
   "metadata": {},
   "outputs": [
    {
     "name": "stdout",
     "output_type": "stream",
     "text": [
      "(3, 3)\n",
      "(1, 3, 3)\n",
      "(3, 3, 1)\n"
     ]
    }
   ],
   "source": [
    "ndarray = np.array([[1, 2, 3], [4, 5, 6], [7, 8, 9]])\n",
    "expand_ndarray1 = np.expand_dims(ndarray, axis=0)\n",
    "expand_ndarray2 = np.expand_dims(ndarray, axis=-1)\n",
    "print(ndarray.shape)\n",
    "print(expand_ndarray1.shape)\n",
    "print(expand_ndarray2.shape)"
   ]
  },
  {
   "cell_type": "code",
   "execution_count": 24,
   "metadata": {},
   "outputs": [],
   "source": [
    "# rankの追加, axis = 0: １つ目の次元 -1:  最後の次元"
   ]
  },
  {
   "cell_type": "code",
   "execution_count": 28,
   "metadata": {},
   "outputs": [
    {
     "name": "stdout",
     "output_type": "stream",
     "text": [
      "(3, 3)\n",
      "(3, 3)\n"
     ]
    }
   ],
   "source": [
    "squeezed_expand_ndaray1 = np.squeeze(expand_ndarray1)\n",
    "squeezed_expand_ndaray2 = np.squeeze(expand_ndarray2)\n",
    "print(squeezed_expand_ndaray1.shape)\n",
    "print(squeezed_expand_ndaray2.shape)"
   ]
  },
  {
   "cell_type": "code",
   "execution_count": 29,
   "metadata": {},
   "outputs": [],
   "source": [
    "# 次元消滅"
   ]
  },
  {
   "cell_type": "code",
   "execution_count": 30,
   "metadata": {},
   "outputs": [],
   "source": [
    "# ファイル保存, 読み込み\n",
    "ndarray = np.array([\n",
    "    [1, 2, 3, 4],\n",
    "    [10, 20, 30, 40],\n",
    "    [100, 200, 300, 400],\n",
    "])\n",
    "np.save('saved_numpy', ndarray)"
   ]
  },
  {
   "cell_type": "code",
   "execution_count": 31,
   "metadata": {},
   "outputs": [],
   "source": [
    "np.save('saved_numpy.npy', ndarray) # 拡張子なくてもOK"
   ]
  },
  {
   "cell_type": "code",
   "execution_count": 32,
   "metadata": {},
   "outputs": [
    {
     "data": {
      "text/plain": [
       "array([[  1,   2,   3,   4],\n",
       "       [ 10,  20,  30,  40],\n",
       "       [100, 200, 300, 400]])"
      ]
     },
     "execution_count": 32,
     "metadata": {},
     "output_type": "execute_result"
    }
   ],
   "source": [
    "np.load('saved_numpy.npy') # 読み込みは拡張子必要"
   ]
  },
  {
   "cell_type": "code",
   "execution_count": null,
   "metadata": {},
   "outputs": [],
   "source": []
  }
 ],
 "metadata": {
  "kernelspec": {
   "display_name": "Python 3",
   "language": "python",
   "name": "python3"
  },
  "language_info": {
   "codemirror_mode": {
    "name": "ipython",
    "version": 3
   },
   "file_extension": ".py",
   "mimetype": "text/x-python",
   "name": "python",
   "nbconvert_exporter": "python",
   "pygments_lexer": "ipython3",
   "version": "3.7.7"
  }
 },
 "nbformat": 4,
 "nbformat_minor": 4
}
