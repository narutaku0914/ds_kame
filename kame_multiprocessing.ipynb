{
 "cells": [
  {
   "cell_type": "markdown",
   "metadata": {},
   "source": [
    "第32回 multiprocessingでの並列処理"
   ]
  },
  {
   "cell_type": "markdown",
   "metadata": {},
   "source": [
    "時間がかかるループを使う場合は使える形に無理やりでもして，並列処理しよう 笑"
   ]
  },
  {
   "cell_type": "markdown",
   "metadata": {},
   "source": [
    "最初は本記事(🐢#32)に書いてあるコードを毎回コピペして使える程度でOK"
   ]
  },
  {
   "cell_type": "code",
   "execution_count": 1,
   "metadata": {},
   "outputs": [],
   "source": [
    "from multiprocessing import Pool\n",
    "\n",
    "# Pool instance\n",
    "cpu_num = 4\n",
    "p = Pool(processes=cpu_num)"
   ]
  },
  {
   "cell_type": "markdown",
   "metadata": {},
   "source": [
    "物理的に存在するコア → 物理コア　　　　　　　　　　　　　　　　　　　　　　　　　　\n",
    "Hyper Threadingを使った擬似的なコア → 論理コア　　　　　　それぞれ確認コマンド有"
   ]
  },
  {
   "cell_type": "code",
   "execution_count": 2,
   "metadata": {},
   "outputs": [
    {
     "data": {
      "text/plain": [
       "8"
      ]
     },
     "execution_count": 2,
     "metadata": {},
     "output_type": "execute_result"
    }
   ],
   "source": [
    "# multiprpcessingでもコマンド有り\n",
    "from multiprocessing import cpu_count\n",
    "cpu_count()"
   ]
  },
  {
   "cell_type": "markdown",
   "metadata": {},
   "source": [
    "上を返り値にして動的に　ただしCPUを占用するのは危険なので-1して指定"
   ]
  },
  {
   "cell_type": "raw",
   "metadata": {},
   "source": [
    "p.map(fun, iterable)がもっとも基本的な使い方\n",
    "\n",
    "map()関数の使い方\n",
    "    map(func, iterable)\n",
    "第二引数に指定したiterable(例えばリスト)のそれぞれの値にfunctionを適用した結果をitearbleで返す\n",
    "\n",
    "multiprocessingはこれを並列で処理してくれるほぼimap()のほうが有利なケースだと思うのでこちらを使って"
   ]
  },
  {
   "cell_type": "code",
   "execution_count": 3,
   "metadata": {},
   "outputs": [
    {
     "name": "stderr",
     "output_type": "stream",
     "text": [
      "100%|██████████| 3662/3662 [00:00<00:00, 3720819.10it/s]\n"
     ]
    }
   ],
   "source": [
    "# 第30回を並列処理(p.map())で\n",
    "import os\n",
    "import numpy as np\n",
    "import cv2\n",
    "from multiprocessing import Pool, cpu_count\n",
    "from tqdm import tqdm\n",
    "from glob import glob\n",
    "\n",
    "p = Pool(processes=cpu_count()-1)\n",
    "\n",
    "save_base_path = 'gaussian_filtered_nparrays_multi/'\n",
    "\n",
    "# folder作成\n",
    "if not os.path.exists(save_base_path):\n",
    "    os.makedirs(save_base_path)\n",
    "\n",
    "def save_npy(path):\n",
    "    \n",
    "    # pngロード\n",
    "    im = cv2.imread(path)\n",
    "    \n",
    "    # pngファイル名をそのまま.npyのファイル名にする\n",
    "    file_name = path.split('/')[-1].split('.png')[0]\n",
    "    save_path = save_base_path + file_name\n",
    "    \n",
    "    # 格納\n",
    "    np.save(save_path, im)\n",
    "\n",
    "# if __name__ == '__main__':\n",
    "path_list = glob('gaussian_filtered_images/*/*.png')\n",
    "\n",
    "list(tqdm(p.map(save_npy, path_list), total=len(path_list)))\n",
    "\n",
    "# ★並列処理が終わったら閉じる\n",
    "p.close()\n",
    "p.join()"
   ]
  },
  {
   "cell_type": "code",
   "execution_count": 4,
   "metadata": {},
   "outputs": [
    {
     "name": "stderr",
     "output_type": "stream",
     "text": [
      "100%|██████████| 3662/3662 [00:09<00:00, 403.09it/s]\n"
     ]
    }
   ],
   "source": [
    "# 第30回を並列処理(p.imap())で\n",
    "import os\n",
    "import numpy as np\n",
    "import cv2\n",
    "from multiprocessing import Pool, cpu_count\n",
    "from tqdm import tqdm\n",
    "from glob import glob\n",
    "\n",
    "p = Pool(processes=cpu_count()-1)\n",
    "\n",
    "save_base_path = 'gaussian_filtered_nparrays_multi/'\n",
    "\n",
    "# folder作成\n",
    "if not os.path.exists(save_base_path):\n",
    "    os.makedirs(save_base_path)\n",
    "\n",
    "def save_npy(path):\n",
    "    \n",
    "    # pngロード\n",
    "    im = cv2.imread(path)\n",
    "    \n",
    "    # pngファイル名をそのまま.npyのファイル名にする\n",
    "    file_name = path.split('/')[-1].split('.png')[0]\n",
    "    save_path = save_base_path + file_name\n",
    "    \n",
    "    # 格納\n",
    "    np.save(save_path, im)\n",
    "\n",
    "# if __name__ == '__main__':\n",
    "path_list = glob('gaussian_filtered_images/*/*.png')\n",
    "\n",
    "list(tqdm(p.imap(save_npy, path_list), total=len(path_list)))\n",
    "\n",
    "# ★並列処理が終わったら閉じる\n",
    "p.close()\n",
    "p.join()"
   ]
  },
  {
   "cell_type": "markdown",
   "metadata": {},
   "source": [
    "ほぼimap()のほうが有利なケースだと思うのでこっちを使って!"
   ]
  },
  {
   "cell_type": "code",
   "execution_count": 6,
   "metadata": {},
   "outputs": [
    {
     "name": "stderr",
     "output_type": "stream",
     "text": [
      "\n",
      "  0%|          | 0/3662 [00:00<?, ?it/s]\u001b[A\n",
      "  1%|▏         | 48/3662 [00:00<00:07, 479.88it/s]\u001b[A\n",
      "  2%|▏         | 91/3662 [00:00<00:07, 456.72it/s]\u001b[A\n",
      "  4%|▎         | 133/3662 [00:00<00:07, 443.89it/s]\u001b[A\n",
      "  5%|▍         | 182/3662 [00:00<00:07, 456.51it/s]\u001b[A\n",
      "  6%|▌         | 226/3662 [00:00<00:07, 446.04it/s]\u001b[A\n",
      "  7%|▋         | 273/3662 [00:00<00:07, 448.35it/s]\u001b[A\n",
      "  9%|▊         | 317/3662 [00:00<00:07, 442.29it/s]\u001b[A\n",
      " 10%|▉         | 362/3662 [00:00<00:07, 440.87it/s]\u001b[A\n",
      " 11%|█         | 407/3662 [00:00<00:07, 437.52it/s]\u001b[A\n",
      " 12%|█▏        | 454/3662 [00:01<00:07, 442.11it/s]\u001b[A\n",
      " 14%|█▎        | 499/3662 [00:01<00:07, 443.35it/s]\u001b[A\n",
      " 15%|█▍        | 543/3662 [00:01<00:07, 431.82it/s]\u001b[A\n",
      " 16%|█▌        | 586/3662 [00:01<00:07, 431.16it/s]\u001b[A\n",
      " 17%|█▋        | 629/3662 [00:01<00:07, 427.92it/s]\u001b[A\n",
      " 18%|█▊        | 672/3662 [00:02<00:27, 107.10it/s]\u001b[A\n",
      " 19%|█▉        | 711/3662 [00:02<00:21, 136.48it/s]\u001b[A\n",
      " 21%|██        | 754/3662 [00:02<00:16, 171.44it/s]\u001b[A\n",
      " 22%|██▏       | 795/3662 [00:02<00:13, 207.63it/s]\u001b[A\n",
      " 23%|██▎       | 835/3662 [00:02<00:11, 241.37it/s]\u001b[A\n",
      " 24%|██▍       | 878/3662 [00:03<00:10, 277.36it/s]\u001b[A\n",
      " 25%|██▌       | 919/3662 [00:03<00:08, 305.97it/s]\u001b[A\n",
      " 26%|██▋       | 963/3662 [00:03<00:08, 334.34it/s]\u001b[A\n",
      " 27%|██▋       | 1006/3662 [00:03<00:07, 357.34it/s]\u001b[A\n",
      " 29%|██▊       | 1048/3662 [00:03<00:07, 371.67it/s]\u001b[A\n",
      " 30%|██▉       | 1090/3662 [00:03<00:06, 380.92it/s]\u001b[A\n",
      " 31%|███       | 1131/3662 [00:03<00:06, 389.08it/s]\u001b[A\n",
      " 32%|███▏      | 1173/3662 [00:03<00:06, 397.39it/s]\u001b[A\n",
      " 33%|███▎      | 1216/3662 [00:03<00:06, 405.20it/s]\u001b[A\n",
      " 34%|███▍      | 1258/3662 [00:03<00:06, 399.62it/s]\u001b[A\n",
      " 36%|███▌      | 1302/3662 [00:04<00:05, 408.69it/s]\u001b[A\n",
      " 37%|███▋      | 1344/3662 [00:04<00:05, 409.01it/s]\u001b[A\n",
      " 38%|███▊      | 1386/3662 [00:04<00:05, 411.38it/s]\u001b[A\n",
      " 39%|███▉      | 1428/3662 [00:04<00:05, 410.83it/s]\u001b[A\n",
      " 40%|████      | 1470/3662 [00:04<00:05, 411.89it/s]\u001b[A\n",
      " 41%|████▏     | 1512/3662 [00:04<00:05, 411.00it/s]\u001b[A\n",
      " 43%|████▎     | 1557/3662 [00:04<00:05, 418.26it/s]\u001b[A\n",
      " 44%|████▎     | 1600/3662 [00:04<00:04, 421.03it/s]\u001b[A\n",
      " 45%|████▍     | 1643/3662 [00:04<00:04, 411.55it/s]\u001b[A\n",
      " 46%|████▌     | 1686/3662 [00:04<00:04, 415.74it/s]\u001b[A\n",
      " 47%|████▋     | 1729/3662 [00:05<00:04, 419.68it/s]\u001b[A\n",
      " 48%|████▊     | 1773/3662 [00:05<00:04, 423.37it/s]\u001b[A\n",
      " 50%|████▉     | 1816/3662 [00:05<00:04, 412.85it/s]\u001b[A\n",
      " 51%|█████     | 1858/3662 [00:05<00:04, 411.43it/s]\u001b[A\n",
      " 52%|█████▏    | 1900/3662 [00:05<00:04, 413.64it/s]\u001b[A\n",
      " 53%|█████▎    | 1943/3662 [00:05<00:04, 418.02it/s]\u001b[A\n",
      " 54%|█████▍    | 1986/3662 [00:05<00:03, 421.25it/s]\u001b[A\n",
      " 55%|█████▌    | 2029/3662 [00:05<00:03, 423.36it/s]\u001b[A\n",
      " 57%|█████▋    | 2072/3662 [00:05<00:03, 414.16it/s]\u001b[A\n",
      " 58%|█████▊    | 2114/3662 [00:06<00:03, 414.43it/s]\u001b[A\n",
      " 59%|█████▉    | 2156/3662 [00:06<00:03, 411.10it/s]\u001b[A\n",
      " 60%|██████    | 2200/3662 [00:06<00:03, 417.01it/s]\u001b[A\n",
      " 61%|██████▏   | 2244/3662 [00:06<00:03, 420.12it/s]\u001b[A\n",
      " 62%|██████▏   | 2287/3662 [00:06<00:03, 420.23it/s]\u001b[A\n",
      " 64%|██████▎   | 2330/3662 [00:06<00:03, 420.17it/s]\u001b[A\n",
      " 65%|██████▍   | 2373/3662 [00:06<00:03, 419.42it/s]\u001b[A\n",
      " 66%|██████▌   | 2415/3662 [00:06<00:02, 419.13it/s]\u001b[A\n",
      " 67%|██████▋   | 2457/3662 [00:06<00:02, 417.31it/s]\u001b[A\n",
      " 68%|██████▊   | 2499/3662 [00:06<00:02, 414.11it/s]\u001b[A\n",
      " 69%|██████▉   | 2541/3662 [00:07<00:02, 412.89it/s]\u001b[A\n",
      " 71%|███████   | 2585/3662 [00:07<00:02, 417.26it/s]\u001b[A\n",
      " 72%|███████▏  | 2628/3662 [00:07<00:02, 420.54it/s]\u001b[A\n",
      " 73%|███████▎  | 2671/3662 [00:07<00:02, 423.02it/s]\u001b[A\n",
      " 74%|███████▍  | 2714/3662 [00:07<00:02, 423.63it/s]\u001b[A\n",
      " 75%|███████▌  | 2757/3662 [00:07<00:02, 419.12it/s]\u001b[A\n",
      " 76%|███████▋  | 2799/3662 [00:07<00:02, 415.83it/s]\u001b[A\n",
      " 78%|███████▊  | 2841/3662 [00:07<00:01, 416.05it/s]\u001b[A\n",
      " 79%|███████▊  | 2883/3662 [00:07<00:01, 416.22it/s]\u001b[A\n",
      " 80%|███████▉  | 2928/3662 [00:07<00:01, 425.76it/s]\u001b[A\n",
      " 81%|████████  | 2971/3662 [00:08<00:01, 409.21it/s]\u001b[A\n",
      " 82%|████████▏ | 3014/3662 [00:08<00:01, 410.42it/s]\u001b[A\n",
      " 84%|████████▎ | 3058/3662 [00:08<00:01, 418.62it/s]\u001b[A\n",
      " 85%|████████▍ | 3100/3662 [00:08<00:01, 416.93it/s]\u001b[A\n",
      " 86%|████████▌ | 3142/3662 [00:08<00:01, 416.22it/s]\u001b[A\n",
      " 87%|████████▋ | 3184/3662 [00:08<00:01, 412.67it/s]\u001b[A\n",
      " 88%|████████▊ | 3226/3662 [00:08<00:01, 403.98it/s]\u001b[A\n",
      " 89%|████████▉ | 3268/3662 [00:08<00:00, 407.58it/s]\u001b[A\n",
      " 90%|█████████ | 3311/3662 [00:08<00:00, 413.64it/s]\u001b[A\n",
      " 92%|█████████▏| 3356/3662 [00:09<00:00, 422.83it/s]\u001b[A\n",
      " 93%|█████████▎| 3399/3662 [00:09<00:00, 417.92it/s]\u001b[A\n",
      " 94%|█████████▍| 3441/3662 [00:09<00:00, 414.87it/s]\u001b[A\n",
      " 95%|█████████▌| 3483/3662 [00:09<00:00, 414.15it/s]\u001b[A\n",
      " 96%|█████████▋| 3526/3662 [00:09<00:00, 417.73it/s]\u001b[A\n",
      " 97%|█████████▋| 3569/3662 [00:09<00:00, 417.26it/s]\u001b[A\n",
      " 99%|█████████▊| 3613/3662 [00:09<00:00, 418.38it/s]\u001b[A\n",
      "100%|██████████| 3662/3662 [00:09<00:00, 376.32it/s]\u001b[A\n"
     ]
    }
   ],
   "source": [
    "import os\n",
    "import numpy as np\n",
    "import cv2\n",
    "from multiprocessing import Pool, cpu_count\n",
    "from tqdm import tqdm\n",
    "from glob import glob\n",
    " \n",
    "p = Pool(processes=cpu_count()-1)\n",
    "# NumPy Arrayをsaveするフォルダ\n",
    "save_base_path = 'gaussian_filtered_nparrays_multi_w_type/'\n",
    "# フォルダ作成\n",
    "if not os.path.exists(save_base_path):\n",
    "    os.makedirs(save_base_path)\n",
    "    \n",
    "    \n",
    "def wrap_save_npy(args):\n",
    "    return save_npy(*args)\n",
    "    \n",
    "    \n",
    "def save_npy(path, type_name):\n",
    "    \n",
    "    #pngデータをopencvでロード\n",
    "    im = cv2.imread(path)\n",
    "    #pngのファイル名 + フォルダ名を.npyファイルのファイル名にする\n",
    "    file_name = path.split('/')[-1].split('.png')[0]\n",
    "    save_path = save_base_path + file_name + '_' + type_name\n",
    "    #全てのnpyファイルを同じフォルダに格納\n",
    "    np.save(save_path, im)\n",
    "    \n",
    "path_list = glob('gaussian_filtered_images/*/*.png')\n",
    "job_args = [(path, path.split('/')[1]) for path in path_list]\n",
    "    \n",
    "list(tqdm(p.imap(wrap_save_npy, job_args), total=len(path_list)))\n",
    "p.close()\n",
    "p.join()"
   ]
  },
  {
   "cell_type": "code",
   "execution_count": null,
   "metadata": {},
   "outputs": [],
   "source": []
  }
 ],
 "metadata": {
  "kernelspec": {
   "display_name": "Python 3",
   "language": "python",
   "name": "python3"
  },
  "language_info": {
   "codemirror_mode": {
    "name": "ipython",
    "version": 3
   },
   "file_extension": ".py",
   "mimetype": "text/x-python",
   "name": "python",
   "nbconvert_exporter": "python",
   "pygments_lexer": "ipython3",
   "version": "3.7.7"
  }
 },
 "nbformat": 4,
 "nbformat_minor": 4
}
