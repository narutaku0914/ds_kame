{
 "cells": [
  {
   "cell_type": "markdown",
   "metadata": {},
   "source": [
    "第30回 tqdmを使ってforループでプログレスバーを表示する"
   ]
  },
  {
   "cell_type": "markdown",
   "metadata": {},
   "source": [
    "大量のデータを処理する際にプログレスバーを表示するtqdmというモジュール        \n",
    "for文と組み合わせて使うことでプログレスバーが表示"
   ]
  },
  {
   "cell_type": "code",
   "execution_count": 1,
   "metadata": {},
   "outputs": [
    {
     "name": "stderr",
     "output_type": "stream",
     "text": [
      "100%|██████████| 10000000/10000000 [00:06<00:00, 1601592.95it/s]"
     ]
    },
    {
     "name": "stdout",
     "output_type": "stream",
     "text": [
      "49999995000000\n"
     ]
    },
    {
     "name": "stderr",
     "output_type": "stream",
     "text": [
      "\n"
     ]
    }
   ],
   "source": [
    "from tqdm import tqdm\n",
    "\n",
    "sum = 0\n",
    "for i in tqdm(range(0, 10000000)):\n",
    "    sum += i\n",
    "print(sum)"
   ]
  },
  {
   "cell_type": "markdown",
   "metadata": {},
   "source": [
    "total引数をつかってデータ数を表示                   \n",
    "使い方によってデータ数が表示されないケース → よくあるのが，DataFrameのイテレーションに使うときtotal引数に処理するデータの総数を入れることで解決"
   ]
  },
  {
   "cell_type": "code",
   "execution_count": 2,
   "metadata": {},
   "outputs": [
    {
     "data": {
      "text/html": [
       "<div>\n",
       "<style scoped>\n",
       "    .dataframe tbody tr th:only-of-type {\n",
       "        vertical-align: middle;\n",
       "    }\n",
       "\n",
       "    .dataframe tbody tr th {\n",
       "        vertical-align: top;\n",
       "    }\n",
       "\n",
       "    .dataframe thead th {\n",
       "        text-align: right;\n",
       "    }\n",
       "</style>\n",
       "<table border=\"1\" class=\"dataframe\">\n",
       "  <thead>\n",
       "    <tr style=\"text-align: right;\">\n",
       "      <th></th>\n",
       "      <th>filepath</th>\n",
       "      <th>type</th>\n",
       "      <th>extension</th>\n",
       "    </tr>\n",
       "  </thead>\n",
       "  <tbody>\n",
       "    <tr>\n",
       "      <th>0</th>\n",
       "      <td>gaussian_filtered_images/Mild/2d7666b8884f.png</td>\n",
       "      <td>Mild</td>\n",
       "      <td>png</td>\n",
       "    </tr>\n",
       "    <tr>\n",
       "      <th>1</th>\n",
       "      <td>gaussian_filtered_images/Mild/50840c36f0b4.png</td>\n",
       "      <td>Mild</td>\n",
       "      <td>png</td>\n",
       "    </tr>\n",
       "    <tr>\n",
       "      <th>2</th>\n",
       "      <td>gaussian_filtered_images/Mild/30cab14951ac.png</td>\n",
       "      <td>Mild</td>\n",
       "      <td>png</td>\n",
       "    </tr>\n",
       "    <tr>\n",
       "      <th>3</th>\n",
       "      <td>gaussian_filtered_images/Mild/a8582e346df0.png</td>\n",
       "      <td>Mild</td>\n",
       "      <td>png</td>\n",
       "    </tr>\n",
       "    <tr>\n",
       "      <th>4</th>\n",
       "      <td>gaussian_filtered_images/Mild/cab3dfa7962d.png</td>\n",
       "      <td>Mild</td>\n",
       "      <td>png</td>\n",
       "    </tr>\n",
       "  </tbody>\n",
       "</table>\n",
       "</div>"
      ],
      "text/plain": [
       "                                         filepath  type extension\n",
       "0  gaussian_filtered_images/Mild/2d7666b8884f.png  Mild       png\n",
       "1  gaussian_filtered_images/Mild/50840c36f0b4.png  Mild       png\n",
       "2  gaussian_filtered_images/Mild/30cab14951ac.png  Mild       png\n",
       "3  gaussian_filtered_images/Mild/a8582e346df0.png  Mild       png\n",
       "4  gaussian_filtered_images/Mild/cab3dfa7962d.png  Mild       png"
      ]
     },
     "execution_count": 2,
     "metadata": {},
     "output_type": "execute_result"
    }
   ],
   "source": [
    "import numpy as np\n",
    "import pandas as pd\n",
    "from glob import glob\n",
    "\n",
    "# すべての.pngファイルパスのリスト取得\n",
    "all_png_list = glob('gaussian_filtered_images/*/*.png')\n",
    "\n",
    "#フォルダ名のリスト\n",
    "type_list = [p.split('/')[1] for p in all_png_list]\n",
    "\n",
    "# 拡張子のリスト\n",
    "extension_list = [p.split('.')[-1] for p in all_png_list]\n",
    "\n",
    "df = pd.DataFrame({'filepath':all_png_list, 'type':type_list, 'extension':extension_list})\n",
    "df.head()"
   ]
  },
  {
   "cell_type": "code",
   "execution_count": 3,
   "metadata": {},
   "outputs": [
    {
     "name": "stderr",
     "output_type": "stream",
     "text": [
      "3662it [00:00, 13483.19it/s]\n"
     ]
    }
   ],
   "source": [
    "for idx, row in tqdm(df.iterrows()): # .iterrows() でイテレーションを回すと，各ループで(idx, row)というタプルに idxはindex, rowは各行のSeries\n",
    "    pass"
   ]
  },
  {
   "cell_type": "code",
   "execution_count": 4,
   "metadata": {},
   "outputs": [
    {
     "name": "stderr",
     "output_type": "stream",
     "text": [
      "100%|██████████| 3662/3662 [00:00<00:00, 13104.20it/s]\n"
     ]
    }
   ],
   "source": [
    "for idx, row in tqdm(df.iterrows(), total=len(df)):\n",
    "    pass"
   ]
  },
  {
   "cell_type": "code",
   "execution_count": 6,
   "metadata": {},
   "outputs": [
    {
     "name": "stderr",
     "output_type": "stream",
     "text": [
      "100%|██████████| 3662/3662 [00:30<00:00, 119.31it/s]\n"
     ]
    }
   ],
   "source": [
    "# データIO[Input/Output]処理（読み込んで処理して保存）　でよく使う\n",
    "import cv2\n",
    "\n",
    "# numpy arrayをsaveするフォルダ\n",
    "save_base_path = 'gaussian_filtered_nparrays/'\n",
    "for p in tqdm(glob('gaussian_filtered_images/*/*.png')):\n",
    "    \n",
    "    # pngデータをopencvでロード\n",
    "    img = cv2.imread(p)\n",
    "    \n",
    "    # pngファイル名をそのまま.npyのファイル名にする\n",
    "    file_name = p.split('/')[-1].split('.png')[0]\n",
    "    save_path = save_base_path + file_name\n",
    "    \n",
    "    # すべてのnpyファイルを同じフォルダに格納 np.save('ファイルパス', ndarray)\n",
    "    np.save(save_path, img) "
   ]
  },
  {
   "cell_type": "markdown",
   "metadata": {},
   "source": [
    "データサイエンスでは大量のデータを解析するので，プログレスバーは必須です．なるべく使う癖をつけよう！"
   ]
  },
  {
   "cell_type": "code",
   "execution_count": null,
   "metadata": {},
   "outputs": [],
   "source": []
  }
 ],
 "metadata": {
  "kernelspec": {
   "display_name": "Python 3",
   "language": "python",
   "name": "python3"
  },
  "language_info": {
   "codemirror_mode": {
    "name": "ipython",
    "version": 3
   },
   "file_extension": ".py",
   "mimetype": "text/x-python",
   "name": "python",
   "nbconvert_exporter": "python",
   "pygments_lexer": "ipython3",
   "version": "3.7.7"
  }
 },
 "nbformat": 4,
 "nbformat_minor": 4
}
